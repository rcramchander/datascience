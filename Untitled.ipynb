{
 "cells": [
  {
   "cell_type": "code",
   "execution_count": 1,
   "id": "0c38d95b",
   "metadata": {},
   "outputs": [
    {
     "name": "stdout",
     "output_type": "stream",
     "text": [
      "Ram Chander Yadav\n"
     ]
    }
   ],
   "source": [
    "print(\"Ram Chander Yadav\")"
   ]
  },
  {
   "cell_type": "code",
   "execution_count": null,
   "id": "81fbbb58",
   "metadata": {},
   "outputs": [],
   "source": [
    "esc+a - to add a new cell above\n",
    "esc+b - to add a new cell below"
   ]
  },
  {
   "cell_type": "code",
   "execution_count": 3,
   "id": "d6bacd22",
   "metadata": {},
   "outputs": [
    {
     "data": {
      "text/plain": [
       "8696"
      ]
     },
     "execution_count": 3,
     "metadata": {},
     "output_type": "execute_result"
    }
   ],
   "source": [
    "8217+479"
   ]
  },
  {
   "cell_type": "code",
   "execution_count": 4,
   "id": "31370a9a",
   "metadata": {},
   "outputs": [
    {
     "data": {
      "text/plain": [
       "36.0"
      ]
     },
     "execution_count": 4,
     "metadata": {},
     "output_type": "execute_result"
    }
   ],
   "source": [
    "360/10"
   ]
  }
 ],
 "metadata": {
  "kernelspec": {
   "display_name": "Python 3 (ipykernel)",
   "language": "python",
   "name": "python3"
  },
  "language_info": {
   "codemirror_mode": {
    "name": "ipython",
    "version": 3
   },
   "file_extension": ".py",
   "mimetype": "text/x-python",
   "name": "python",
   "nbconvert_exporter": "python",
   "pygments_lexer": "ipython3",
   "version": "3.11.4"
  }
 },
 "nbformat": 4,
 "nbformat_minor": 5
}
